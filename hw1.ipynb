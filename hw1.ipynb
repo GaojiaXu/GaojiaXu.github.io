{
 "cells": [
  {
   "cell_type": "markdown",
   "metadata": {},
   "source": [
    "### 1\n",
    "#### 1.1 Sum square difference：problem 6 from the [Euler Project](https://projecteuler.net/archives)\n",
    "\n",
    "Find the difference between the sum of the squares of the first one hundred natural numbers and the square of the sum.\n"
   ]
  },
  {
   "cell_type": "code",
   "execution_count": 140,
   "metadata": {},
   "outputs": [],
   "source": [
    "def square_diff():\n",
    "    \"\"\"Return difference of the sum of squares of first 100 number and square of their sum.\"\"\"\n",
    "    lst = range(1, 100+1)    \n",
    "    print(sum(lst) ** 2 - sum(s ** 2 for s in lst))"
   ]
  },
  {
   "cell_type": "code",
   "execution_count": 141,
   "metadata": {},
   "outputs": [
    {
     "name": "stdout",
     "output_type": "stream",
     "text": [
      "25164150\n"
     ]
    }
   ],
   "source": [
    "square_diff()"
   ]
  },
  {
   "cell_type": "markdown",
   "metadata": {},
   "source": [
    "#### 1.2 Digit factorials：problem 34 from the [Euler Project](https://projecteuler.net/archives)\n",
    "\n",
    "Find the sum of all numbers which are equal to the sum of the factorial of their digits."
   ]
  },
  {
   "cell_type": "code",
   "execution_count": 138,
   "metadata": {},
   "outputs": [],
   "source": [
    "import math\n",
    "\n",
    "def dig_factorial():\n",
    "    \"\"\"Return sum of all numbers which are equal to the sum of the factorial of their digits.\"\"\"\n",
    "    \n",
    "    tot_sum = 0\n",
    "    \n",
    "    #create factorial dictionary in order to simplify the repeated factorial calculations\n",
    "    factorial = {}\n",
    "    factorial[0] = 1\n",
    "    for a in range(1,10):\n",
    "        factorial[a] = math.factorial(a)\n",
    "    \n",
    "    #exclude 1 and 2\n",
    "    # if the number has more than 7 digits, then no matter how many digits it has, multiply by 9! will less than the number.\n",
    "    # Thus we choose 10000000 as the upper bound\n",
    "    for i in range(3,10000000):\n",
    "        num_lst = list (dig for dig in str(i))\n",
    "        number_sum = 0\n",
    "        for j in num_lst:\n",
    "            number_sum += factorial[int(j)]\n",
    "        if number_sum == i:\n",
    "            tot_sum += i      \n",
    "    \n",
    "    return(tot_sum)\n",
    "        "
   ]
  },
  {
   "cell_type": "code",
   "execution_count": 139,
   "metadata": {},
   "outputs": [
    {
     "data": {
      "text/plain": [
       "40730"
      ]
     },
     "execution_count": 139,
     "metadata": {},
     "output_type": "execute_result"
    }
   ],
   "source": [
    "dig_factorial()"
   ]
  },
  {
   "cell_type": "markdown",
   "metadata": {},
   "source": [
    "#### 1.3 Square root digital expansion：problem 80 from the [Euler Project](https://projecteuler.net/archives)\n",
    "\n",
    "For the first one hundred natural numbers, find the total of the digital sums of the first one hundred decimal digits for all the irrational square roots."
   ]
  },
  {
   "cell_type": "code",
   "execution_count": 136,
   "metadata": {},
   "outputs": [],
   "source": [
    "import decimal\n",
    "def root_expan():\n",
    "    \"\"\"Return total of the digital sums of the first 100 decimal digits for all the irrational square roots\"\"\"\n",
    "    getcontext().prec = 102 \n",
    "    \n",
    "    tot = 0\n",
    "    for i in range(101):\n",
    "        if sqrt(i) % 1 != 0 : \n",
    "            dec_string = str(Decimal(i).sqrt()).replace('.', '')[:100]             \n",
    "            sum_dec = 0\n",
    "            for j in dec_string:\n",
    "                sum_dec += int(j)\n",
    "            tot += sum_dec\n",
    "            \n",
    "    return(tot)\n"
   ]
  },
  {
   "cell_type": "code",
   "execution_count": 137,
   "metadata": {},
   "outputs": [
    {
     "data": {
      "text/plain": [
       "40886"
      ]
     },
     "execution_count": 137,
     "metadata": {},
     "output_type": "execute_result"
    }
   ],
   "source": [
    "root_expan()"
   ]
  },
  {
   "cell_type": "code",
   "execution_count": null,
   "metadata": {},
   "outputs": [],
   "source": []
  },
  {
   "cell_type": "code",
   "execution_count": null,
   "metadata": {},
   "outputs": [],
   "source": []
  }
 ],
 "metadata": {
  "kernelspec": {
   "display_name": "Python 3",
   "language": "python",
   "name": "python3"
  },
  "language_info": {
   "codemirror_mode": {
    "name": "ipython",
    "version": 3
   },
   "file_extension": ".py",
   "mimetype": "text/x-python",
   "name": "python",
   "nbconvert_exporter": "python",
   "pygments_lexer": "ipython3",
   "version": "3.8.5"
  }
 },
 "nbformat": 4,
 "nbformat_minor": 4
}
