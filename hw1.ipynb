{
 "cells": [
  {
   "cell_type": "markdown",
   "metadata": {},
   "source": [
    "Name: Gaojia Xu\n",
    "\n",
    "For more detail see [Github blog](https://gaojiaxu.github.io).\n",
    "\n",
    "[Github repository](https://github.com/GaojiaXu/GaojiaXu.github.io)."
   ]
  },
  {
   "cell_type": "markdown",
   "metadata": {},
   "source": [
    "### 1\n",
    "#### 1.1 Sum square difference：problem 6 from the [Euler Project](https://projecteuler.net/archives)\n",
    "\n",
    "Question: Find the difference between the sum of the squares of the first one hundred natural numbers and square of their sum.\n"
   ]
  },
  {
   "cell_type": "markdown",
   "metadata": {},
   "source": [
    "This question is quite straightforward. The square of the sum of first 100 numbers can be computed directly and we can loop through the 100 numbers to calculate the square of each number then sum them up. The final step is finding difference from subtraction."
   ]
  },
  {
   "cell_type": "code",
   "execution_count": 1,
   "metadata": {},
   "outputs": [],
   "source": [
    "def square_diff():\n",
    "    \"\"\"Return difference of the sum of squares of first 100 number and square of their sum.\"\"\"\n",
    "\n",
    "    lst = range(1, 100+1)    \n",
    "    return sum(lst) ** 2 - sum(s ** 2 for s in lst)\n",
    "    "
   ]
  },
  {
   "cell_type": "code",
   "execution_count": 2,
   "metadata": {},
   "outputs": [
    {
     "data": {
      "text/plain": [
       "25164150"
      ]
     },
     "execution_count": 2,
     "metadata": {},
     "output_type": "execute_result"
    }
   ],
   "source": [
    "square_diff()"
   ]
  },
  {
   "cell_type": "markdown",
   "metadata": {},
   "source": [
    "#### 1.2 Digit factorials：problem 34 from the [Euler Project](https://projecteuler.net/archives)\n",
    "\n",
    "Question: Find the sum of all numbers which are equal to the sum of the factorial of their digits."
   ]
  },
  {
   "cell_type": "markdown",
   "metadata": {},
   "source": [
    "The intuitive train of thought is to first check the sum of the factorial of the digits, then if this sum equals to the number, means it satisfies the criteria, we should add the number to the final sum.\n",
    "\n",
    "As we know the there are only 9 kinds of factorial result of a digit, so I first create the factorial dictionary in order to simplify the further repeated factorial calculations.\n",
    "\n",
    "To choose the upper bound of the loop range, we know if the number has more than 7 digits, then no matter how many digits it has, say n, then multiply n by 9! will less than the number itself. Thus we can choose the upper bound as factorial of 9 multiplied by 7. Also from the problem, we exclude 1 and 2 so the lower bound is 3.\n",
    "\n",
    "Then the main idea to calculate sum of the factorial of the digits is converting the number to string for the inner loop of digits' factorial. Make digits in the number to a list and find corresponding factorial from the factorial list for further calculation.\n",
    "\n",
    "Finally, after checking the equalization of sum of digits factorial and the number, we can add satisfied numbers to the total sum."
   ]
  },
  {
   "cell_type": "code",
   "execution_count": 3,
   "metadata": {},
   "outputs": [],
   "source": [
    "import math\n",
    "\n",
    "def dig_factorial():\n",
    "    \"\"\"Return sum of all numbers which are equal to the sum of the factorial of their digits.\"\"\"    \n",
    "\n",
    "    # create factorial dictionary for simplicity\n",
    "    fact_list = [math.factorial(x) for x in range(0,10)]\n",
    "    tot_sum = 0\n",
    "    \n",
    "    for i in range(3, math.factorial(9) * 7):\n",
    "        if sum([fact_list[int(j)] for j in str(i)]) == i:\n",
    "            tot_sum += i      \n",
    "    \n",
    "    return tot_sum\n",
    "        "
   ]
  },
  {
   "cell_type": "code",
   "execution_count": 4,
   "metadata": {},
   "outputs": [
    {
     "data": {
      "text/plain": [
       "40730"
      ]
     },
     "execution_count": 4,
     "metadata": {},
     "output_type": "execute_result"
    }
   ],
   "source": [
    "dig_factorial()"
   ]
  },
  {
   "cell_type": "markdown",
   "metadata": {},
   "source": [
    "#### 1.3 Square root digital expansion：problem 80 from the [Euler Project](https://projecteuler.net/archives)\n",
    "\n",
    "Question: For the first one hundred natural numbers, find the total of the digital sums of the first one hundred decimal digits for all the irrational square roots."
   ]
  },
  {
   "cell_type": "markdown",
   "metadata": {},
   "source": [
    "If we find square root of a number directly, it will only return several digits which is not enough for this question. Thus, we can leverage other package to extract decimal with specified precision.\n",
    "\n",
    "The logic of this question is firstly, check if the number has irrational square root, if the residual of the square root divided by 1 is not 0, this means the number is irrational.\n",
    "\n",
    "Then we process the number to find summation of its digit. But before that we should replace the dot in square root of the number to nothing in order to do summation easier. Checking with the question in Euler, it says for square root of number 2, digital sum of its first one hundred decimal digits is 475, which is the sum of digits start from the very beginning (including the integer part), so we stick with this rule.\n",
    "\n",
    "For each irrational number, we design a inner loop of digits to calculate sum. The idea is similar to the second question, which is making digits first into string and then convert back. Finally, we add all digital sums of  first 100 digits of irrational square roots in first 100 number."
   ]
  },
  {
   "cell_type": "code",
   "execution_count": 7,
   "metadata": {},
   "outputs": [],
   "source": [
    "from decimal import *\n",
    "\n",
    "def root_expan():\n",
    "    \"\"\"Return total of the digital sums of the first 100 decimal digits for all the irrational square roots\"\"\"\n",
    "    \n",
    "    getcontext().prec = 102   \n",
    "    tot = 0\n",
    "    for i in range(101):\n",
    "        \n",
    "        # indicates the square root of the number is irrational\n",
    "        if math.sqrt(i) % 1 != 0 : \n",
    "            dec_string = str(Decimal(i).sqrt()).replace('.', '')[:100]             \n",
    "            sum_dec = 0\n",
    "            for j in dec_string:\n",
    "                sum_dec += int(j)\n",
    "            tot += sum_dec\n",
    "            \n",
    "    return tot\n"
   ]
  },
  {
   "cell_type": "code",
   "execution_count": 8,
   "metadata": {},
   "outputs": [
    {
     "data": {
      "text/plain": [
       "40886"
      ]
     },
     "execution_count": 8,
     "metadata": {},
     "output_type": "execute_result"
    }
   ],
   "source": [
    "root_expan()"
   ]
  },
  {
   "cell_type": "code",
   "execution_count": null,
   "metadata": {},
   "outputs": [],
   "source": []
  }
 ],
 "metadata": {
  "kernelspec": {
   "display_name": "Python 3",
   "language": "python",
   "name": "python3"
  },
  "language_info": {
   "codemirror_mode": {
    "name": "ipython",
    "version": 3
   },
   "file_extension": ".py",
   "mimetype": "text/x-python",
   "name": "python",
   "nbconvert_exporter": "python",
   "pygments_lexer": "ipython3",
   "version": "3.8.5"
  }
 },
 "nbformat": 4,
 "nbformat_minor": 4
}
