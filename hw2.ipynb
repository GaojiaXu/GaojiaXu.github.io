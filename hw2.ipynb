{
 "cells": [
  {
   "cell_type": "markdown",
   "metadata": {},
   "source": [
    "**2**. Number theory and a Google recruitment puzzle\n",
    "\n",
    "Find the first 10-digit prime in the decimal expansion of 17π. \n",
    "\n",
    "The first 5 digits in the decimal expansion of π are 14159. The first 4-digit prime in the decimal expansion of π are 4159. You are asked to find the first 10-digit prime in the decimal expansion of 17π. First solve sub-problems (divide and conquer):\n",
    "\n",
    "- Write a function to generate an arbitrary large expansion of a mathematical expression like π. Hint: You can use the standard library `decimal` or the 3rd party library `sympy` to do this\n",
    "- Write a function to check if a number is prime. Hint: See Sieve of Eratosthenes\n",
    "- Write a function to generate sliding windows of a specified width from a long iterable (e.g. a string representation of a number)\n",
    "\n",
    "Write unit tests for each of these three functions. You are encouraged, but not required, to try [test-driven development](https://en.wikipedia.org/wiki/Test-driven_development).\n",
    "\n",
    "Now use these helper functions to write the function that you need.\n",
    "Write a unit test for this final function, given that the first 10-digit prime in the expansion e is 7427466391. Finally, solve the given problem.\n",
    "\n"
   ]
  },
  {
   "cell_type": "code",
   "execution_count": 38,
   "metadata": {},
   "outputs": [],
   "source": [
    "import numpy as np"
   ]
  },
  {
   "cell_type": "markdown",
   "metadata": {},
   "source": [
    "## Function 1 : Generate an arbitrary large expansion of a mathematical expression."
   ]
  },
  {
   "cell_type": "markdown",
   "metadata": {},
   "source": [
    "Use directly from `sympy` package to expand an mathematical expression.\n",
    "\n",
    "And we also check if the input expand_decimal is integer or float, raise error if not."
   ]
  },
  {
   "cell_type": "code",
   "execution_count": 263,
   "metadata": {},
   "outputs": [],
   "source": [
    "from sympy import *\n",
    "\n",
    "def expand(expression, expand_decimal):\n",
    "    \"\"\"Return the expression with decimal length specified\"\"\"\n",
    "    \n",
    "    if type(expand_decimal) not in [int, float]:\n",
    "        raise TypeError(\"The specified digits length of expansion should be a float or an integer\")\n",
    "    \n",
    "    return N(expression, expand_decimal)"
   ]
  },
  {
   "cell_type": "code",
   "execution_count": 65,
   "metadata": {},
   "outputs": [
    {
     "data": {
      "text/latex": [
       "$\\displaystyle 53.407$"
      ],
      "text/plain": [
       "53.407"
      ]
     },
     "execution_count": 65,
     "metadata": {},
     "output_type": "execute_result"
    }
   ],
   "source": [
    "expand(17*pi,5)"
   ]
  },
  {
   "cell_type": "code",
   "execution_count": 276,
   "metadata": {},
   "outputs": [
    {
     "data": {
      "text/latex": [
       "$\\displaystyle 53.407$"
      ],
      "text/plain": [
       "53.407"
      ]
     },
     "execution_count": 276,
     "metadata": {},
     "output_type": "execute_result"
    }
   ],
   "source": [
    "expand('17*pi',5)"
   ]
  },
  {
   "cell_type": "markdown",
   "metadata": {},
   "source": [
    "## Function 2 : Check if a number is prime"
   ]
  },
  {
   "cell_type": "markdown",
   "metadata": {},
   "source": [
    "The idea of this function follows Sieve of Eratosthenes. After considering some special case, such that number 2 is a prime, we can first sieve all even numbers because they are not prime, can be divided by 2. Then we can sieve multiples of odd numbers in a specific range, setting the upper bound as the square root of the number is economic way, and add 1 to be safer, and we skip the even numbers because we already sieve for 2. "
   ]
  },
  {
   "cell_type": "code",
   "execution_count": 264,
   "metadata": {},
   "outputs": [],
   "source": [
    "def check_prime(n):\n",
    "    \"\"\"Check if the number is a prime\"\"\"\n",
    "    if n == 2:\n",
    "        return True\n",
    "    if n <= 1 or n % 2 == 0:\n",
    "        return False\n",
    "    for i in range(3, int(np.sqrt(n)) + 1, 2):\n",
    "        if n % i == 0:\n",
    "            return False\n",
    "    return True"
   ]
  },
  {
   "cell_type": "code",
   "execution_count": 277,
   "metadata": {},
   "outputs": [
    {
     "data": {
      "text/plain": [
       "True"
      ]
     },
     "execution_count": 277,
     "metadata": {},
     "output_type": "execute_result"
    }
   ],
   "source": [
    "check_prime(2)"
   ]
  },
  {
   "cell_type": "code",
   "execution_count": 279,
   "metadata": {},
   "outputs": [
    {
     "data": {
      "text/plain": [
       "False"
      ]
     },
     "execution_count": 279,
     "metadata": {},
     "output_type": "execute_result"
    }
   ],
   "source": [
    "check_prime(15)"
   ]
  },
  {
   "cell_type": "markdown",
   "metadata": {},
   "source": [
    "## Function 3 : Generate sliding windows of a specified width from a long iterable"
   ]
  },
  {
   "cell_type": "markdown",
   "metadata": {},
   "source": [
    "For each input number, create the sliding window from start position and with specified length, if there is dot included, we should split by dot and join all numbers from the int and decimal portion."
   ]
  },
  {
   "cell_type": "code",
   "execution_count": 305,
   "metadata": {},
   "outputs": [],
   "source": [
    "def sliding_window(num, start, length):\n",
    "    \"\"\"Return the string of the number starts from start position with specified length\"\"\"\n",
    "    \n",
    "    if type(start) != int or type(length) != int:\n",
    "        raise TypeError(\"n_len and n_dec need to be integers\")\n",
    "    \n",
    "    string = ''.join(str(num).split(\".\"))[start : start + length]\n",
    "    return string"
   ]
  },
  {
   "cell_type": "code",
   "execution_count": 307,
   "metadata": {},
   "outputs": [
    {
     "data": {
      "text/plain": [
       "'1566'"
      ]
     },
     "execution_count": 307,
     "metadata": {},
     "output_type": "execute_result"
    }
   ],
   "source": [
    "sliding_window(3.15663347, 1, 4)"
   ]
  },
  {
   "cell_type": "code",
   "execution_count": 308,
   "metadata": {},
   "outputs": [
    {
     "data": {
      "text/plain": [
       "'0156'"
      ]
     },
     "execution_count": 308,
     "metadata": {},
     "output_type": "execute_result"
    }
   ],
   "source": [
    "sliding_window(0.15663347, 0, 4)"
   ]
  },
  {
   "cell_type": "markdown",
   "metadata": {},
   "source": [
    "## Unit test for 3 functions"
   ]
  },
  {
   "cell_type": "code",
   "execution_count": 349,
   "metadata": {},
   "outputs": [
    {
     "name": "stdout",
     "output_type": "stream",
     "text": [
      "Overwriting functions.py\n"
     ]
    }
   ],
   "source": [
    "%%file functions.py\n",
    "\n",
    "from sympy import *\n",
    "import numpy as np\n",
    "\n",
    "\n",
    "def expand(expression, expand_decimal):\n",
    "    \"\"\"Return the expression with decimal length specified\"\"\"\n",
    "    \n",
    "    if type(expand_decimal) not in [int, float]:\n",
    "        raise TypeError(\"The specified digits length of expansion should be a float or an integer\")\n",
    "    \n",
    "    return N(expression, expand_decimal)\n",
    "\n",
    "def check_prime(n):\n",
    "    \"\"\"Check if the number is a prime\"\"\"\n",
    "    if n == 2:\n",
    "        return True\n",
    "    if n <= 1 or n % 2 == 0:\n",
    "        return False\n",
    "    for i in range(3, int(np.sqrt(n)) + 1, 2):\n",
    "        if n % i == 0:\n",
    "            return False\n",
    "    return True\n",
    "\n",
    "def sliding_window(num, start, length):\n",
    "    \"\"\"Return the string of the number starts from start position with specified length\"\"\"\n",
    "    \n",
    "    if type(start) != int or type(length) != int:\n",
    "        raise TypeError(\"n_len and n_dec need to be integers\")\n",
    "    \n",
    "    string = ''.join(str(num).split(\".\"))[start : start + length]\n",
    "    return string"
   ]
  },
  {
   "cell_type": "code",
   "execution_count": 350,
   "metadata": {},
   "outputs": [
    {
     "name": "stdout",
     "output_type": "stream",
     "text": [
      "Overwriting test_functions.py\n"
     ]
    }
   ],
   "source": [
    "%%file test_functions.py\n",
    "\n",
    "import math\n",
    "import unittest\n",
    "from functions import expand, check_prime, sliding_window\n",
    "\n",
    "\n",
    "class TestHelpers(unittest.TestCase):\n",
    "    def test_expand(self):\n",
    "        self.assertEqual(str(expand(math.pi, 4)), format(math.pi, '.3f'))\n",
    "        self.assertEqual(str(expand(math.e, 30)), format(math.e, '.29f'))\n",
    "        self.assertEqual(str(expand(7.6*math.e, 8)), format(7.6*math.e, '.6f'))\n",
    "    \n",
    "    def test_expand_input(self):\n",
    "        self.assertRaises(TypeError, expand, \"5\")\n",
    "    \n",
    "    def test_prime(self):\n",
    "        self.assertTrue(check_prime(2))\n",
    "        self.assertTrue(check_prime(5))\n",
    "        self.assertTrue(check_prime(7427466391))\n",
    "        self.assertFalse(check_prime(16))\n",
    "        \n",
    "    def test_gen(self):\n",
    "        self.assertEqual(sliding_window(3.1415926589, 4, 3), '592')\n",
    "        self.assertEqual(sliding_window(math.e, 6, 8), format(math.e, '.20f')[7:7+8])\n",
    "    \n",
    "if __name__ == '__main__':\n",
    "    unittest.main()"
   ]
  },
  {
   "cell_type": "code",
   "execution_count": 372,
   "metadata": {
    "scrolled": true
   },
   "outputs": [
    {
     "name": "stdout",
     "output_type": "stream",
     "text": [
      "....\r\n",
      "----------------------------------------------------------------------\r\n",
      "Ran 4 tests in 0.005s\r\n",
      "\r\n",
      "OK\r\n"
     ]
    }
   ],
   "source": [
    "! python3 -m unittest test_functions.py"
   ]
  },
  {
   "cell_type": "markdown",
   "metadata": {},
   "source": [
    "## Find first n-digit prime in the decimal expansion of a number"
   ]
  },
  {
   "cell_type": "markdown",
   "metadata": {},
   "source": [
    "1. For each expression, we first expand it to specified decimals, if it is not specified, we use default 1000.\n",
    "\n",
    "2. We create sliding windows for the certain number of digit in the expanded expression. It should be a loop because we check from the beginning of the expanded expression and add 1 to the start position each time (shift the window to the right for 1 position each time).\n",
    "\n",
    "3. Check if the number has length of the prime length we want, because if the number has 0 at the beginning, the length is shortened by 1, thus we set this as the one of the checking condition. And another checking condition is if the nubmer in sliding window is prime or not, and we only need the first prime."
   ]
  },
  {
   "cell_type": "code",
   "execution_count": 309,
   "metadata": {},
   "outputs": [],
   "source": [
    "def prime_in_num(expression, prime_dig, expand_decimal = 1000):\n",
    "    \"\"\"Return the first prime of specified length in an expression\"\"\"\n",
    "    \n",
    "    expanded = expand(expression, expand_decimal)\n",
    "    \n",
    "    for i in range(expand_decimal):\n",
    "        num_int = int(sliding_window(expanded, i, prime_dig))\n",
    "        \n",
    "        if (len(str(num_int)) == prime_dig) and (check_prime(num_int)):\n",
    "            return num_int\n",
    "        else: \n",
    "            i += 1\n",
    "                \n",
    "        if i > expand_decimal - prime_dig:\n",
    "            return(\"There is no prime with specified length within the decimal expansion of the expression\")"
   ]
  },
  {
   "cell_type": "markdown",
   "metadata": {},
   "source": [
    "Check if the return message works."
   ]
  },
  {
   "cell_type": "code",
   "execution_count": 352,
   "metadata": {},
   "outputs": [
    {
     "data": {
      "text/plain": [
       "'There is no prime with specified length within the decimal expansion of the expression'"
      ]
     },
     "execution_count": 352,
     "metadata": {},
     "output_type": "execute_result"
    }
   ],
   "source": [
    "prime_in_num(E, 10, 20)"
   ]
  },
  {
   "cell_type": "markdown",
   "metadata": {},
   "source": [
    "Check with e, which should have 10-digit prime 7427466391 in decimal expansion."
   ]
  },
  {
   "cell_type": "code",
   "execution_count": 353,
   "metadata": {},
   "outputs": [
    {
     "data": {
      "text/plain": [
       "7427466391"
      ]
     },
     "execution_count": 353,
     "metadata": {},
     "output_type": "execute_result"
    }
   ],
   "source": [
    "prime_in_num(E, 10)"
   ]
  },
  {
   "cell_type": "markdown",
   "metadata": {},
   "source": [
    "## Unit test for main function"
   ]
  },
  {
   "cell_type": "code",
   "execution_count": 364,
   "metadata": {},
   "outputs": [
    {
     "name": "stdout",
     "output_type": "stream",
     "text": [
      "Overwriting main_function.py\n"
     ]
    }
   ],
   "source": [
    "%%file main_function.py\n",
    "\n",
    "from functions import expand, check_prime, sliding_window\n",
    "\n",
    "\n",
    "def prime_in_num(expression, prime_dig, expand_decimal = 1000):\n",
    "    \"\"\"Return the first prime of specified length in an expression\"\"\"\n",
    "    \n",
    "    expanded = expand(expression, expand_decimal)\n",
    "    \n",
    "    for i in range(expand_decimal):\n",
    "        num_int = int(sliding_window(expanded, i, prime_dig))\n",
    "        \n",
    "        if (len(str(num_int)) == prime_dig) and (check_prime(num_int)):\n",
    "            return num_int\n",
    "        else: \n",
    "            i += 1\n",
    "                \n",
    "        if i > expand_decimal - prime_dig:\n",
    "            return(\"There is no prime with specified length within the decimal expansion of the expression\")"
   ]
  },
  {
   "cell_type": "code",
   "execution_count": 369,
   "metadata": {},
   "outputs": [
    {
     "name": "stdout",
     "output_type": "stream",
     "text": [
      "Overwriting test_main_function.py\n"
     ]
    }
   ],
   "source": [
    "%%file test_main_function.py\n",
    "\n",
    "from sympy import *\n",
    "import math\n",
    "import unittest\n",
    "from functions import expand, check_prime, sliding_window\n",
    "from main_function import prime_in_num\n",
    "\n",
    "class TestHelpers(unittest.TestCase):\n",
    "    def test_main(self):\n",
    "        self.assertEqual(prime_in_num(E, 10), 7427466391)\n",
    "        self.assertEqual(prime_in_num(math.pi, 5), 14159)\n",
    "        self.assertEqual(prime_in_num(math.pi, 4), 4159)\n",
    "    \n",
    "if __name__ == '__main__':\n",
    "    unittest.main()"
   ]
  },
  {
   "cell_type": "code",
   "execution_count": 370,
   "metadata": {},
   "outputs": [
    {
     "name": "stdout",
     "output_type": "stream",
     "text": [
      ".\r\n",
      "----------------------------------------------------------------------\r\n",
      "Ran 1 test in 0.010s\r\n",
      "\r\n",
      "OK\r\n"
     ]
    }
   ],
   "source": [
    "! python3 -m unittest test_main_function.py"
   ]
  },
  {
   "cell_type": "markdown",
   "metadata": {},
   "source": [
    "## Solve the problem"
   ]
  },
  {
   "cell_type": "markdown",
   "metadata": {},
   "source": [
    "Find 10-digit prime in decimal expansion of $17*\\pi$"
   ]
  },
  {
   "cell_type": "code",
   "execution_count": 371,
   "metadata": {},
   "outputs": [
    {
     "data": {
      "text/plain": [
       "8649375157"
      ]
     },
     "execution_count": 371,
     "metadata": {},
     "output_type": "execute_result"
    }
   ],
   "source": [
    "prime_in_num(17*pi, 10)"
   ]
  },
  {
   "cell_type": "code",
   "execution_count": null,
   "metadata": {},
   "outputs": [],
   "source": []
  }
 ],
 "metadata": {
  "kernelspec": {
   "display_name": "Python 3",
   "language": "python",
   "name": "python3"
  },
  "language_info": {
   "codemirror_mode": {
    "name": "ipython",
    "version": 3
   },
   "file_extension": ".py",
   "mimetype": "text/x-python",
   "name": "python",
   "nbconvert_exporter": "python",
   "pygments_lexer": "ipython3",
   "version": "3.8.5"
  }
 },
 "nbformat": 4,
 "nbformat_minor": 4
}
